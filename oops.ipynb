{
  "nbformat": 4,
  "nbformat_minor": 0,
  "metadata": {
    "colab": {
      "provenance": []
    },
    "kernelspec": {
      "name": "python3",
      "display_name": "Python 3"
    },
    "language_info": {
      "name": "python"
    }
  },
  "cells": [
    {
      "cell_type": "code",
      "execution_count": null,
      "metadata": {
        "id": "gbYQKfdkfXx-"
      },
      "outputs": [],
      "source": []
    },
    {
      "cell_type": "markdown",
      "source": [
        "\n",
        "\n",
        "---\n",
        "\n",
        "### 🔸 Foundational OOP Concepts\n",
        "\n",
        "1. **Object-Oriented Programming (OOP):**  \n",
        "   A paradigm where software is designed using objects and classes to model real-world entities and behaviors.\n",
        "\n",
        "2. **Class:**  \n",
        "   A template or blueprint for creating objects. It defines variables (attributes) and functions (methods).\n",
        "\n",
        "3. **Object:**  \n",
        "   An instance of a class. It holds actual values and can use class methods.\n",
        "\n",
        "4. **Abstraction vs Encapsulation:**  \n",
        "   - *Abstraction:* Hides complex details, shows only essential features.  \n",
        "   - *Encapsulation:* Restricts access to data using private/protected variables.\n",
        "\n",
        "5. **Dunder Methods:**  \n",
        "   Special double underscore methods like `__init__`, `__str__`, `__add__` used to customize class behavior.\n",
        "\n",
        "---\n",
        "\n",
        "### 🔸 Relationships & Structure\n",
        "\n",
        "6. **Inheritance in OOP:**  \n",
        "   Mechanism where a class (child) acquires properties and behaviors of another class (parent).\n",
        "\n",
        "7. **Polymorphism in OOP:**  \n",
        "   Allows different classes to respond to the same method call in different ways.\n",
        "\n",
        "8. **Encapsulation in Python:**  \n",
        "   Achieved via name mangling (`__var` for private) and property decorators for access control.\n",
        "\n",
        "9. **Constructor in Python:**  \n",
        "   The `__init__()` method automatically runs when a new object is created, initializing attributes.\n",
        "\n",
        "10. **Class vs Static Methods:**  \n",
        "   - `@classmethod` uses `cls`, accesses class-level data.  \n",
        "   - `@staticmethod` doesn’t use `self` or `cls`.\n",
        "\n",
        "---\n",
        "\n",
        "### 🔸 Method Mechanics\n",
        "\n",
        "11. **Method Overloading:**  \n",
        "   Same method name with different parameters—Python simulates it using default or `*args`.\n",
        "\n",
        "12. **Method Overriding:**  \n",
        "   Child class redefines a method from the parent with the same name and parameters.\n",
        "\n",
        "13. **Property Decorator:**  \n",
        "   Used for controlled access via `@property`, `@x.setter`, `@x.deleter` for encapsulating logic.\n",
        "\n",
        "14. **Why Polymorphism Matters:**  \n",
        "   Enables flexibility and clean code. A single interface can work across different classes.\n",
        "\n",
        "15. **Abstract Class:**  \n",
        "   Defined with `ABC` and `@abstractmethod`. Cannot be instantiated. Forces subclasses to implement methods.\n",
        "\n",
        "---\n",
        "\n",
        "### 🔸 OOP in Practice\n",
        "\n",
        "16. **Advantages of OOP:**  \n",
        "   - Clean structure  \n",
        "   - Code reusability  \n",
        "   - Scalability  \n",
        "   - Easy debugging & maintenance\n",
        "\n",
        "17. **Multiple Inheritance:**  \n",
        "   When one class inherits from more than one base class.\n",
        "\n",
        "18. **Class Variable vs Instance Variable:**  \n",
        "   - *Class variable:* Shared across all instances  \n",
        "   - *Instance variable:* Unique for each object\n",
        "\n",
        "19. **`__str__` vs `__repr__`:**  \n",
        "   - `__str__`: User-friendly string (`print(obj)`)  \n",
        "   - `__repr__`: Official representation for debugging (`repr(obj)`)\n",
        "\n",
        "20. **`super()` Function:**  \n",
        "   Calls methods from the parent class, useful in inheritance and overriding.\n",
        "\n",
        "21. **`__del__` Method:**  \n",
        "   Destructor called when an object is deleted. Rarely used, mainly for cleanup.\n",
        "\n",
        "22. **@staticmethod vs @classmethod:**  \n",
        "   - `@staticmethod`: No access to class or instance.  \n",
        "   - `@classmethod`: Accesses class via `cls`.\n",
        "\n",
        "23. **Polymorphism with Inheritance:**  \n",
        "   Through method overriding, a child class changes behavior while the interface remains consistent.\n",
        "\n",
        "24. **Method Chaining:**  \n",
        "   Returns `self` to allow consecutive method calls: `obj.set_name().set_age()`\n",
        "\n",
        "25. **`__call__` Method:**  \n",
        "   Lets an object be invoked like a function: `obj()` becomes valid.\n",
        "\n",
        "---\n",
        "\n",
        "Would you like this in a downloadable PDF or styled flashcards for daily revision? I’d be happy to help you set that up!"
      ],
      "metadata": {
        "id": "7TeZ2ZDtgJSn"
      }
    },
    {
      "cell_type": "code",
      "source": [
        "class Animal:\n",
        "    def speak(self):\n",
        "        print(\"The animal makes a sound.\")\n",
        "\n",
        "class Dog(Animal):\n",
        "    def speak(self):\n",
        "        print(\"Bark!\")\n",
        "\n",
        "Dog().speak()\n",
        "\n",
        "\n",
        "\n",
        "\n"
      ],
      "metadata": {
        "colab": {
          "base_uri": "https://localhost:8080/"
        },
        "id": "07tydRbVgP-r",
        "outputId": "10a83c96-46f0-4817-cae0-7ddf142a5ac3"
      },
      "execution_count": 2,
      "outputs": [
        {
          "output_type": "stream",
          "name": "stdout",
          "text": [
            "Bark!\n"
          ]
        }
      ]
    },
    {
      "cell_type": "code",
      "source": [
        "from abc import ABC, abstractmethod\n",
        "\n",
        "class Shape(ABC):\n",
        "    @abstractmethod\n",
        "    def area(self):\n",
        "        pass\n",
        "\n",
        "class Circle(Shape):\n",
        "    def __init__(self, radius):\n",
        "        self.radius = radius\n",
        "    def area(self):\n",
        "        return 3.14 * self.radius ** 2\n",
        "\n",
        "class Rectangle(Shape):\n",
        "    def __init__(self, width, height):\n",
        "        self.width = width\n",
        "        self.height = height\n",
        "    def area(self):\n",
        "        return self.width * self.height\n"
      ],
      "metadata": {
        "id": "wPwxko9KhQgk"
      },
      "execution_count": null,
      "outputs": []
    },
    {
      "cell_type": "code",
      "source": [
        "class Vehicle:\n",
        "    def __init__(self, type_):\n",
        "        self.type = type_\n",
        "\n",
        "class Car(Vehicle):\n",
        "    def __init__(self, type_, brand):\n",
        "        super().__init__(type_)\n",
        "        self.brand = brand\n",
        "\n",
        "class ElectricCar(Car):\n",
        "    def __init__(self, type_, brand, battery):\n",
        "        super().__init__(type_, brand)\n",
        "        self.battery = battery\n"
      ],
      "metadata": {
        "id": "6rsuX4BGhUAU"
      },
      "execution_count": null,
      "outputs": []
    },
    {
      "cell_type": "code",
      "source": [
        "class Bird:\n",
        "    def fly(self):\n",
        "        print(\"Bird is flying\")\n",
        "\n",
        "class Sparrow(Bird):\n",
        "    def fly(self):\n",
        "        print(\"Sparrow can fly high!\")\n",
        "\n",
        "class Penguin(Bird):\n",
        "    def fly(self):\n",
        "        print(\"Penguin can't fly\")\n",
        "\n",
        "for bird in (Sparrow(), Penguin()):\n",
        "    bird.fly()\n"
      ],
      "metadata": {
        "id": "KPm0-rKphb6P"
      },
      "execution_count": null,
      "outputs": []
    },
    {
      "cell_type": "code",
      "source": [
        "class BankAccount:\n",
        "    def __init__(self):\n",
        "        self.__balance = 0\n",
        "\n",
        "    def deposit(self, amount):\n",
        "        self.__balance += amount\n",
        "\n",
        "    def withdraw(self, amount):\n",
        "        if amount <= self.__balance:\n",
        "            self.__balance -= amount\n",
        "\n",
        "    def check_balance(self):\n",
        "        return self.__balance\n"
      ],
      "metadata": {
        "id": "IwSJDrwqhjWr"
      },
      "execution_count": null,
      "outputs": []
    },
    {
      "cell_type": "code",
      "source": [
        "class Instrument:\n",
        "    def play(self):\n",
        "        print(\"Playing music\")\n",
        "\n",
        "class Guitar(Instrument):\n",
        "    def play(self):\n",
        "        print(\"Strumming the guitar\")\n",
        "\n",
        "class Piano(Instrument):\n",
        "    def play(self):\n",
        "        print(\"Pressing piano keys\")\n",
        "\n",
        "for instr in (Guitar(), Piano()):\n",
        "    instr.play()\n"
      ],
      "metadata": {
        "id": "SKnC1AZdhkfk"
      },
      "execution_count": null,
      "outputs": []
    },
    {
      "cell_type": "code",
      "source": [
        "class MathOperations:\n",
        "    @classmethod\n",
        "    def add_numbers(cls, a, b):\n",
        "        return a + b\n",
        "\n",
        "    @staticmethod\n",
        "    def subtract_numbers(a, b):\n",
        "        return a - b\n"
      ],
      "metadata": {
        "id": "runU-nKjhpjF"
      },
      "execution_count": null,
      "outputs": []
    },
    {
      "cell_type": "code",
      "source": [
        "class Person:\n",
        "    count = 0\n",
        "\n",
        "    def __init__(self, name):\n",
        "        self.name = name\n",
        "        Person.count += 1\n",
        "\n",
        "    @classmethod\n",
        "    def total_persons(cls):\n",
        "        return cls.count\n"
      ],
      "metadata": {
        "id": "ZvwZMkw_huac"
      },
      "execution_count": null,
      "outputs": []
    },
    {
      "cell_type": "code",
      "source": [
        "class Fraction:\n",
        "    def __init__(self, numerator, denominator):\n",
        "        self.numerator = numerator\n",
        "        self.denominator = denominator\n",
        "\n",
        "    def __str__(self):\n",
        "        return f\"{self.numerator}/{self.denominator}\"\n",
        "\n",
        "\n"
      ],
      "metadata": {
        "id": "FxT2jwlTh3MP"
      },
      "execution_count": null,
      "outputs": []
    },
    {
      "cell_type": "code",
      "source": [
        "class Vector:\n",
        "    def __init__(self, x, y):\n",
        "        self.x = x\n",
        "        self.y = y\n",
        "\n",
        "    def __add__(self, other):\n",
        "        return Vector(self.x + other.x, self.y + other.y)\n",
        "\n",
        "    def __str__(self):\n",
        "        return f\"({self.x}, {self.y})\"\n"
      ],
      "metadata": {
        "id": "-Hi7vt8eiII0"
      },
      "execution_count": null,
      "outputs": []
    },
    {
      "cell_type": "code",
      "source": [
        "class Person:\n",
        "    def __init__(self, name, age):\n",
        "        self.name = name\n",
        "        self.age = age\n",
        "\n",
        "    def greet(self):\n",
        "        print(f\"Hello, my name is {self.name} and I am {self.age} years old.\")\n"
      ],
      "metadata": {
        "id": "8fYnGZXtiJXl"
      },
      "execution_count": null,
      "outputs": []
    },
    {
      "cell_type": "code",
      "source": [
        "class Student:\n",
        "    def __init__(self, name, grades):\n",
        "        self.name = name\n",
        "        self.grades = grades\n",
        "\n",
        "    def average_grade(self):\n",
        "        return sum(self.grades) / len(self.grades)\n"
      ],
      "metadata": {
        "id": "jIzBbs_liJIm"
      },
      "execution_count": null,
      "outputs": []
    },
    {
      "cell_type": "code",
      "source": [
        "class Rectangle:\n",
        "    def set_dimensions(self, width, height):\n",
        "        self.width = width\n",
        "        self.height = height\n",
        "\n",
        "    def area(self):\n",
        "        return self.width * self.height\n"
      ],
      "metadata": {
        "id": "4sKPmbJeiI8t"
      },
      "execution_count": null,
      "outputs": []
    },
    {
      "cell_type": "code",
      "source": [
        "class Rectangle:\n",
        "    def set_dimensions(self, width, height):\n",
        "        self.width = width\n",
        "        self.height = height\n",
        "\n",
        "    def area(self):\n",
        "        return self.width * self.height\n"
      ],
      "metadata": {
        "id": "dxBdzsyqiInF"
      },
      "execution_count": null,
      "outputs": []
    },
    {
      "cell_type": "code",
      "source": [
        "class Employee:\n",
        "    def __init__(self, hours, rate):\n",
        "        self.hours = hours\n",
        "        self.rate = rate\n",
        "\n",
        "    def calculate_salary(self):\n",
        "        return self.hours * self.rate\n",
        "\n",
        "class Manager(Employee):\n",
        "    def __init__(self, hours, rate, bonus):\n",
        "        super().__init__(hours, rate)\n",
        "        self.bonus = bonus\n",
        "\n",
        "    def calculate_salary(self):\n",
        "        return super().calculate_salary() + self.bonus\n"
      ],
      "metadata": {
        "id": "Zl56-1_sidaN"
      },
      "execution_count": null,
      "outputs": []
    },
    {
      "cell_type": "code",
      "source": [
        "class Product:\n",
        "    def __init__(self, name, price, quantity):\n",
        "        self.name = name\n",
        "        self.price = price\n",
        "        self.quantity = quantity\n",
        "\n",
        "    def total_price(self):\n",
        "        return self.price * self.quantity\n"
      ],
      "metadata": {
        "id": "JJkljElQik6N"
      },
      "execution_count": null,
      "outputs": []
    },
    {
      "cell_type": "code",
      "source": [
        "from abc import ABC, abstractmethod\n",
        "\n",
        "class Animal(ABC):\n",
        "    @abstractmethod\n",
        "    def sound(self):\n",
        "        pass\n",
        "\n",
        "class Cow(Animal):\n",
        "    def sound(self):\n",
        "        return \"Moo\"\n",
        "\n",
        "class Sheep(Animal):\n",
        "    def sound(self):\n",
        "        return \"Baa\"\n"
      ],
      "metadata": {
        "id": "p6P0h04biypU"
      },
      "execution_count": null,
      "outputs": []
    },
    {
      "cell_type": "code",
      "source": [
        "class Book:\n",
        "    def __init__(self, title, author, year_published):\n",
        "        self.title = title\n",
        "        self.author = author\n",
        "        self.year_published = year_published\n",
        "\n",
        "    def get_book_info(self):\n",
        "        return f\"'{self.title}' by {self.author}, published in {self.year_published}\"\n"
      ],
      "metadata": {
        "id": "yD3koe4rizIJ"
      },
      "execution_count": null,
      "outputs": []
    },
    {
      "cell_type": "code",
      "source": [
        "class House:\n",
        "    def __init__(self, address, price):\n",
        "        self.address = address\n",
        "        self.price = price\n",
        "\n",
        "class Mansion(House):\n",
        "    def __init__(self, address, price, number_of_rooms):\n",
        "        super().__init__(address, price)\n",
        "        self.number_of_rooms = number_of_rooms\n"
      ],
      "metadata": {
        "id": "39J56KKji7pL"
      },
      "execution_count": null,
      "outputs": []
    }
  ]
}